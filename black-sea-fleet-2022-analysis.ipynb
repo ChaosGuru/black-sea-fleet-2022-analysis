{
 "cells": [
  {
   "cell_type": "markdown",
   "id": "4255cb6a",
   "metadata": {},
   "source": [
    "Data source: https://www.kaggle.com/datasets/piterfm/russian-navy/data?select=black_sea_fleet.csv"
   ]
  },
  {
   "cell_type": "code",
   "execution_count": 2,
   "id": "f01aba60",
   "metadata": {},
   "outputs": [],
   "source": [
    "import pandas as pd"
   ]
  },
  {
   "cell_type": "code",
   "execution_count": 8,
   "id": "130af953",
   "metadata": {},
   "outputs": [],
   "source": [
    "df_fleet = pd.read_csv(\"russian-navy/black_sea_fleet.csv\")\n",
    "df_fleet_losses = pd.read_csv(\"russian-navy/black_sea_losses.csv\")\n",
    "df_fleet_wiki_en = pd.read_csv(\"russian-navy/black_sea_fleet_wiki_en.csv\")\n",
    "df_fleet_wiki_ru = pd.read_csv(\"russian-navy/black_sea_fleet_wiki_ru.csv\")"
   ]
  },
  {
   "cell_type": "code",
   "execution_count": 10,
   "id": "100c14ba",
   "metadata": {},
   "outputs": [
    {
     "data": {
      "text/plain": [
       "(33, 14)"
      ]
     },
     "metadata": {},
     "output_type": "display_data"
    },
    {
     "data": {
      "text/plain": [
       "Index(['Name', 'Type', 'NameOld', 'PossibleLosses', 'Project', 'Class',\n",
       "       'Status', 'StatusDate', 'HitBy', 'HitPlace', 'Fleet', 'Builders',\n",
       "       'Images', 'Sources'],\n",
       "      dtype='object')"
      ]
     },
     "metadata": {},
     "output_type": "display_data"
    },
    {
     "data": {
      "text/html": [
       "<div>\n",
       "<style scoped>\n",
       "    .dataframe tbody tr th:only-of-type {\n",
       "        vertical-align: middle;\n",
       "    }\n",
       "\n",
       "    .dataframe tbody tr th {\n",
       "        vertical-align: top;\n",
       "    }\n",
       "\n",
       "    .dataframe thead th {\n",
       "        text-align: right;\n",
       "    }\n",
       "</style>\n",
       "<table border=\"1\" class=\"dataframe\">\n",
       "  <thead>\n",
       "    <tr style=\"text-align: right;\">\n",
       "      <th></th>\n",
       "      <th>Name</th>\n",
       "      <th>Type</th>\n",
       "      <th>NameOld</th>\n",
       "      <th>PossibleLosses</th>\n",
       "      <th>Project</th>\n",
       "      <th>Class</th>\n",
       "      <th>Status</th>\n",
       "      <th>StatusDate</th>\n",
       "      <th>HitBy</th>\n",
       "      <th>HitPlace</th>\n",
       "      <th>Fleet</th>\n",
       "      <th>Builders</th>\n",
       "      <th>Images</th>\n",
       "      <th>Sources</th>\n",
       "    </tr>\n",
       "  </thead>\n",
       "  <tbody>\n",
       "    <tr>\n",
       "      <th>0</th>\n",
       "      <td>unknown</td>\n",
       "      <td>NaN</td>\n",
       "      <td>NaN</td>\n",
       "      <td>NaN</td>\n",
       "      <td>NaN</td>\n",
       "      <td>NaN</td>\n",
       "      <td>NaN</td>\n",
       "      <td>2022-02-25</td>\n",
       "      <td>NaN</td>\n",
       "      <td>NaN</td>\n",
       "      <td>NaN</td>\n",
       "      <td>NaN</td>\n",
       "      <td>NaN</td>\n",
       "      <td>NaN</td>\n",
       "    </tr>\n",
       "    <tr>\n",
       "      <th>1</th>\n",
       "      <td>unknown</td>\n",
       "      <td>NaN</td>\n",
       "      <td>NaN</td>\n",
       "      <td>NaN</td>\n",
       "      <td>NaN</td>\n",
       "      <td>NaN</td>\n",
       "      <td>NaN</td>\n",
       "      <td>2022-02-25</td>\n",
       "      <td>NaN</td>\n",
       "      <td>NaN</td>\n",
       "      <td>NaN</td>\n",
       "      <td>NaN</td>\n",
       "      <td>NaN</td>\n",
       "      <td>NaN</td>\n",
       "    </tr>\n",
       "    <tr>\n",
       "      <th>2</th>\n",
       "      <td>unknown</td>\n",
       "      <td>NaN</td>\n",
       "      <td>NaN</td>\n",
       "      <td>NaN</td>\n",
       "      <td>NaN</td>\n",
       "      <td>NaN</td>\n",
       "      <td>NaN</td>\n",
       "      <td>2022-03-06</td>\n",
       "      <td>NaN</td>\n",
       "      <td>NaN</td>\n",
       "      <td>NaN</td>\n",
       "      <td>NaN</td>\n",
       "      <td>NaN</td>\n",
       "      <td>NaN</td>\n",
       "    </tr>\n",
       "    <tr>\n",
       "      <th>3</th>\n",
       "      <td>P-352</td>\n",
       "      <td>Anti-saboteur Boat</td>\n",
       "      <td>NaN</td>\n",
       "      <td>P-345 Buyevlyanin, P-425 Chapaevsk</td>\n",
       "      <td>Project 03160</td>\n",
       "      <td>Raptor</td>\n",
       "      <td>destroyed</td>\n",
       "      <td>2022-03-22</td>\n",
       "      <td>2 x 9M113 ATGM</td>\n",
       "      <td>Mariupol</td>\n",
       "      <td>Black Sea</td>\n",
       "      <td>Pella shipyard</td>\n",
       "      <td>NaN</td>\n",
       "      <td>https://twitter.com/UAWeapons/status/150622932...</td>\n",
       "    </tr>\n",
       "    <tr>\n",
       "      <th>4</th>\n",
       "      <td>Saratov</td>\n",
       "      <td>Large Landing Ship</td>\n",
       "      <td>BDK-65</td>\n",
       "      <td>NaN</td>\n",
       "      <td>Project 1171</td>\n",
       "      <td>Tapir</td>\n",
       "      <td>destroyed and sunk</td>\n",
       "      <td>2022-03-24</td>\n",
       "      <td>Missile Strike</td>\n",
       "      <td>Berdyansk</td>\n",
       "      <td>Black Sea</td>\n",
       "      <td>Yantar Shipyard</td>\n",
       "      <td>NaN</td>\n",
       "      <td>https://youtu.be/7g5ZVwDqLRg</td>\n",
       "    </tr>\n",
       "  </tbody>\n",
       "</table>\n",
       "</div>"
      ],
      "text/plain": [
       "      Name                Type NameOld                      PossibleLosses  \\\n",
       "0  unknown                 NaN     NaN                                 NaN   \n",
       "1  unknown                 NaN     NaN                                 NaN   \n",
       "2  unknown                 NaN     NaN                                 NaN   \n",
       "3    P-352  Anti-saboteur Boat     NaN  P-345 Buyevlyanin, P-425 Chapaevsk   \n",
       "4  Saratov  Large Landing Ship  BDK-65                                 NaN   \n",
       "\n",
       "         Project   Class              Status  StatusDate           HitBy  \\\n",
       "0            NaN     NaN                 NaN  2022-02-25             NaN   \n",
       "1            NaN     NaN                 NaN  2022-02-25             NaN   \n",
       "2            NaN     NaN                 NaN  2022-03-06             NaN   \n",
       "3  Project 03160  Raptor           destroyed  2022-03-22  2 x 9M113 ATGM   \n",
       "4  Project 1171    Tapir  destroyed and sunk  2022-03-24  Missile Strike   \n",
       "\n",
       "    HitPlace       Fleet         Builders Images  \\\n",
       "0        NaN         NaN              NaN    NaN   \n",
       "1        NaN         NaN              NaN    NaN   \n",
       "2        NaN         NaN              NaN    NaN   \n",
       "3   Mariupol   Black Sea   Pella shipyard    NaN   \n",
       "4  Berdyansk   Black Sea  Yantar Shipyard    NaN   \n",
       "\n",
       "                                             Sources  \n",
       "0                                                NaN  \n",
       "1                                                NaN  \n",
       "2                                                NaN  \n",
       "3  https://twitter.com/UAWeapons/status/150622932...  \n",
       "4                       https://youtu.be/7g5ZVwDqLRg  "
      ]
     },
     "execution_count": 10,
     "metadata": {},
     "output_type": "execute_result"
    }
   ],
   "source": [
    "display(df_fleet_losses.shape)\n",
    "display(df_fleet_losses.columns)\n",
    "df_fleet_losses.head()"
   ]
  }
 ],
 "metadata": {
  "kernelspec": {
   "display_name": ".venv",
   "language": "python",
   "name": "python3"
  },
  "language_info": {
   "codemirror_mode": {
    "name": "ipython",
    "version": 3
   },
   "file_extension": ".py",
   "mimetype": "text/x-python",
   "name": "python",
   "nbconvert_exporter": "python",
   "pygments_lexer": "ipython3",
   "version": "3.12.3"
  }
 },
 "nbformat": 4,
 "nbformat_minor": 5
}
