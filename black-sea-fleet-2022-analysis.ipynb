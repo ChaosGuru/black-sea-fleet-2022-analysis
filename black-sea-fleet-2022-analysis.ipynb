{
 "cells": [
  {
   "cell_type": "markdown",
   "id": "4255cb6a",
   "metadata": {},
   "source": [
    "Data source: https://www.kaggle.com/datasets/piterfm/russian-navy/data?select=black_sea_fleet.csv"
   ]
  },
  {
   "cell_type": "markdown",
   "id": "ea284f5b",
   "metadata": {},
   "source": [
    "# Set up"
   ]
  },
  {
   "cell_type": "code",
   "execution_count": null,
   "id": "f01aba60",
   "metadata": {},
   "outputs": [],
   "source": [
    "import pandas as pd\n",
    "import plotly.express as px\n",
    "import plotly.io as pio\n",
    "import plotly.graph_objects as go\n",
    "\n",
    "from plotly.subplots import make_subplots\n",
    "\n",
    "pio.renderers.default='notebook'"
   ]
  },
  {
   "cell_type": "code",
   "execution_count": null,
   "id": "130af953",
   "metadata": {},
   "outputs": [],
   "source": [
    "def import_data(filepath: str) -> pd.DataFrame:\n",
    "    \"\"\"Import data from CSV file to DataFrame\"\"\"\n",
    "\n",
    "    df = pd.read_csv(filepath)\n",
    "\n",
    "    print(\"File:\", filepath)\n",
    "    print(\"Shape:\", df.shape)\n",
    "    print(\"Columns:\", list(df.columns))\n",
    "    print(\"Head:\")\n",
    "    display(df.head(2))\n",
    "\n",
    "    return df\n",
    "\n",
    "# Get data\n",
    "df_fleet = import_data(\"russian-navy/black_sea_fleet.csv\")  # All ships\n",
    "df_fleet_losses = import_data(\"russian-navy/black_sea_losses.csv\")  # Identified losses\n",
    "df_fleet_wiki_en = import_data(\"russian-navy/black_sea_fleet_wiki_en.csv\")  # War ships\n",
    "df_fleet_wiki_ru = import_data(\"russian-navy/black_sea_fleet_wiki_ru.csv\")  # War ships\n",
    "\n",
    "# Normalise 'df_fleet' DataFrame\n",
    "df_fleet.loc[:, \"Length (m)\"] = df_fleet[\"Length (m)\"].str.replace(\",\", \".\")  # Convert string to numeric\n",
    "df_fleet.loc[:, \"Length (m)\"] = df_fleet[\"Length (m)\"].astype(float)\n",
    "\n",
    "# Normalise 'df_fleet_losses' DataFrame\n",
    "df_fleet_losses = df_fleet_losses.fillna(\"unknown\")  # Replace NaN values with name \"unknown\"\n",
    "df_fleet_losses.loc[:, \"Status\"] = df_fleet_losses[\"Status\"].replace({\"dameged\": \"damaged\", \"destroyed \": \"destroyed\", \"destroyed and sunk\": \"sunk\", \"damaged beyond economical repair\": \"damaged beyond repair\"})  # Replace Status"
   ]
  },
  {
   "cell_type": "code",
   "execution_count": null,
   "id": "9c63fe4d",
   "metadata": {},
   "outputs": [],
   "source": [
    "# Get all the ships the their length\n",
    "df = df_fleet[[\"Name\", \"Length (m)\"]]\n",
    "df = df.sort_values(\"Length (m)\", ascending=False)\n",
    "# df = df.head(100)\n",
    "# Map to destroyed ships\n",
    "df[df[\"Name\"].isin(df_fleet_losses[\"Name\"].to_list())].reset_index()\n",
    "# df\n",
    "px.bar(df, x=\"Name\", y=\"Length (m)\")"
   ]
  },
  {
   "cell_type": "code",
   "execution_count": null,
   "id": "91d59d77",
   "metadata": {},
   "outputs": [],
   "source": [
    "df_fleet[df_fleet[\"Name\"] == \"BDK-43\"]"
   ]
  },
  {
   "cell_type": "code",
   "execution_count": null,
   "id": "d93c5400",
   "metadata": {},
   "outputs": [],
   "source": [
    "df = df_fleet_losses[[\"Name\", \"NameOld\", \"Status\"]].set_index(\"Name\")\n",
    "df.join(df_fleet[[\"Name\", \"Length (m)\"]].set_index(\"Name\")).sort_values(\"Length (m)\")"
   ]
  },
  {
   "cell_type": "markdown",
   "id": "b1f3a9c4",
   "metadata": {},
   "source": [
    "# Ships losses grouped by type (sunburst chart)\n",
    "You can click on the inner circle to expand it."
   ]
  },
  {
   "cell_type": "code",
   "execution_count": 194,
   "id": "aabf7ca3",
   "metadata": {},
   "outputs": [
    {
     "data": {
      "text/html": [
       "<div>            <script src=\"https://cdnjs.cloudflare.com/ajax/libs/mathjax/2.7.5/MathJax.js?config=TeX-AMS-MML_SVG\"></script><script type=\"text/javascript\">if (window.MathJax && window.MathJax.Hub && window.MathJax.Hub.Config) {window.MathJax.Hub.Config({SVG: {font: \"STIX-Web\"}});}</script>                    <div id=\"1646c6a2-d331-4f1e-be2b-880b75b13154\" class=\"plotly-graph-div\" style=\"height:1000px; width:100%;\"></div>            <script type=\"text/javascript\">                window.PLOTLYENV=window.PLOTLYENV || {};                                if (document.getElementById(\"1646c6a2-d331-4f1e-be2b-880b75b13154\")) {                    Plotly.newPlot(                        \"1646c6a2-d331-4f1e-be2b-880b75b13154\",                        [{\"branchvalues\":\"total\",\"customdata\":[[\"damaged\"],[\"damaged\"],[\"damaged\"],[\"damaged\"],[\"damaged\"],[\"damaged\"],[\"damaged\"],[\"damaged\"],[\"damaged\"],[\"damaged\"],[\"damaged\"],[\"damaged\"],[\"damaged beyond repair\"],[\"damaged beyond repair\"],[\"damaged beyond repair\"],[\"damaged beyond repair\"],[\"damaged beyond repair\"]],\"domain\":{\"x\":[0.0,0.45],\"y\":[0.0,1.0]},\"hovertemplate\":\"labels=%{label}\\u003cbr\\u003ecount=%{value}\\u003cbr\\u003eparent=%{parent}\\u003cbr\\u003eid=%{id}\\u003cbr\\u003eStatus=%{customdata[0]}\\u003cextra\\u003e\\u003c\\u002fextra\\u003e\",\"ids\":[\"damaged\\u002fGuided Missile Frigate\\u002fAdmiral Makarov\",\"damaged\\u002fPatrol Ship\",\"damaged\\u002fMissile Corvette\",\"damaged\\u002fLarge Landing Ship\",\"damaged\\u002fSeagoing Minesweeper\",\"damaged\",\"damaged\\u002fMissile Corvette\\u002fAskold\",\"damaged\\u002fGuided Missile Frigate\",\"damaged\\u002fMissile Corvette\\u002fSamum\",\"damaged\\u002fLarge Landing Ship\\u002fOlenegorsky Gornyak\",\"damaged\\u002fSeagoing Minesweeper\\u002fIvan Golubets\",\"damaged\\u002fPatrol Ship\\u002fPavel Derzhavin\",\"damaged beyond repair\\u002fLarge Landing Ship\\u002fMinsk\",\"damaged beyond repair\\u002fSubmarine\\u002fRostov-on-Don\",\"damaged beyond repair\\u002fSubmarine\",\"damaged beyond repair\\u002fLarge Landing Ship\",\"damaged beyond repair\"],\"labels\":[\"Admiral Makarov\",\"Patrol Ship\",\"Missile Corvette\",\"Large Landing Ship\",\"Seagoing Minesweeper\",\"damaged\",\"Askold\",\"Guided Missile Frigate\",\"Samum\",\"Olenegorsky Gornyak\",\"Ivan Golubets\",\"Pavel Derzhavin\",\"Minsk\",\"Rostov-on-Don\",\"Submarine\",\"Large Landing Ship\",\"damaged beyond repair\"],\"marker\":{\"colors\":[\"#B47C08\",\"#B47C08\",\"#B47C08\",\"#B47C08\",\"#B47C08\",\"#B47C08\",\"#B47C08\",\"#B47C08\",\"#B47C08\",\"#B47C08\",\"#B47C08\",\"#B47C08\",\"#835A06\",\"#835A06\",\"#835A06\",\"#835A06\",\"#835A06\"]},\"name\":\"\",\"parents\":[\"damaged\\u002fGuided Missile Frigate\",\"damaged\",\"damaged\",\"damaged\",\"damaged\",\"\",\"damaged\\u002fMissile Corvette\",\"damaged\",\"damaged\\u002fMissile Corvette\",\"damaged\\u002fLarge Landing Ship\",\"damaged\\u002fSeagoing Minesweeper\",\"damaged\\u002fPatrol Ship\",\"damaged beyond repair\\u002fLarge Landing Ship\",\"damaged beyond repair\\u002fSubmarine\",\"damaged beyond repair\",\"damaged beyond repair\",\"\"],\"values\":{\"dtype\":\"i1\",\"bdata\":\"AQECAQEGAQEBAQEBAQEBAQI=\"},\"type\":\"sunburst\"},{\"branchvalues\":\"total\",\"customdata\":[[\"destroyed\"],[\"destroyed\"],[\"destroyed\"],[\"destroyed\"],[\"destroyed\"],[\"destroyed\"],[\"destroyed\"],[\"destroyed\"],[\"destroyed\"],[\"destroyed\"],[\"destroyed\"],[\"destroyed\"],[\"destroyed\"],[\"destroyed\"],[\"destroyed\"],[\"destroyed\"],[\"destroyed\"],[\"destroyed\"],[\"destroyed\"],[\"destroyed\"],[\"sunk\"],[\"sunk\"],[\"sunk\"],[\"sunk\"],[\"sunk\"],[\"sunk\"],[\"sunk\"],[\"sunk\"],[\"sunk\"],[\"sunk\"]],\"domain\":{\"x\":[0.55,1.0],\"y\":[0.0,1.0]},\"hovertemplate\":\"labels=%{label}\\u003cbr\\u003ecount=%{value}\\u003cbr\\u003eparent=%{parent}\\u003cbr\\u003eid=%{id}\\u003cbr\\u003eStatus=%{customdata[0]}\\u003cextra\\u003e\\u003c\\u002fextra\\u003e\",\"ids\":[\"destroyed\\u002fAnti-saboteur Boat\\u002fP-352\",\"destroyed\\u002fPatrol Ship\",\"destroyed\\u002fMissile Corvette \",\"destroyed\\u002fLarge Landing Ship\",\"destroyed\\u002fPatrol Boat\",\"destroyed\\u002fLanding Craft\",\"destroyed\\u002fHigh-Speed Landing Craft\",\"destroyed\\u002fAnti-saboteur Boat\",\"destroyed\\u002fPatrol Ship\\u002fSergey Kotov\",\"destroyed\\u002fLarge Landing Ship\\u002fCaesar Kunikov\",\"destroyed\",\"destroyed\\u002fLarge Landing Ship\\u002fNovocherkassk\",\"destroyed\\u002fMissile Corvette \\u002fIvanovets\",\"destroyed\\u002fLanding Craft\\u002fD-199\",\"destroyed\\u002fAnti-saboteur Boat\\u002fP-274\",\"destroyed\\u002fHigh-Speed Landing Craft\\u002fD-296\",\"destroyed\\u002fAnti-saboteur Boat\\u002fP-276\",\"destroyed\\u002fAnti-saboteur Boat\\u002fP-275\",\"destroyed\\u002fPatrol Boat\\u002funknown\",\"destroyed\\u002fLanding Craft\\u002fD-144\",\"sunk\\u002fLarge Landing Ship\",\"sunk\\u002fGuided Missile Cruiser\",\"sunk\\u002fSalvage Tug\\u002fSpasatel Vasily Bekh\",\"sunk\\u002fLanding Craft\\u002funknown\",\"sunk\\u002fSalvage Tug\",\"sunk\\u002fLanding Craft\",\"sunk\\u002fLanding Craft\\u002fD-106\",\"sunk\\u002fGuided Missile Cruiser\\u002fMoskva\",\"sunk\\u002fLarge Landing Ship\\u002fSaratov\",\"sunk\"],\"labels\":[\"P-352\",\"Patrol Ship\",\"Missile Corvette \",\"Large Landing Ship\",\"Patrol Boat\",\"Landing Craft\",\"High-Speed Landing Craft\",\"Anti-saboteur Boat\",\"Sergey Kotov\",\"Caesar Kunikov\",\"destroyed\",\"Novocherkassk\",\"Ivanovets\",\"D-199\",\"P-274\",\"D-296\",\"P-276\",\"P-275\",\"unknown\",\"D-144\",\"Large Landing Ship\",\"Guided Missile Cruiser\",\"Spasatel Vasily Bekh\",\"unknown\",\"Salvage Tug\",\"Landing Craft\",\"D-106\",\"Moskva\",\"Saratov\",\"sunk\"],\"marker\":{\"colors\":[\"#9C0D07\",\"#9C0D07\",\"#9C0D07\",\"#9C0D07\",\"#9C0D07\",\"#9C0D07\",\"#9C0D07\",\"#9C0D07\",\"#9C0D07\",\"#9C0D07\",\"#9C0D07\",\"#9C0D07\",\"#9C0D07\",\"#9C0D07\",\"#9C0D07\",\"#9C0D07\",\"#9C0D07\",\"#9C0D07\",\"#9C0D07\",\"#9C0D07\",\"#6B0905\",\"#6B0905\",\"#6B0905\",\"#6B0905\",\"#6B0905\",\"#6B0905\",\"#6B0905\",\"#6B0905\",\"#6B0905\",\"#6B0905\"]},\"name\":\"\",\"parents\":[\"destroyed\\u002fAnti-saboteur Boat\",\"destroyed\",\"destroyed\",\"destroyed\",\"destroyed\",\"destroyed\",\"destroyed\",\"destroyed\",\"destroyed\\u002fPatrol Ship\",\"destroyed\\u002fLarge Landing Ship\",\"\",\"destroyed\\u002fLarge Landing Ship\",\"destroyed\\u002fMissile Corvette \",\"destroyed\\u002fLanding Craft\",\"destroyed\\u002fAnti-saboteur Boat\",\"destroyed\\u002fHigh-Speed Landing Craft\",\"destroyed\\u002fAnti-saboteur Boat\",\"destroyed\\u002fAnti-saboteur Boat\",\"destroyed\\u002fPatrol Boat\",\"destroyed\\u002fLanding Craft\",\"sunk\",\"sunk\",\"sunk\\u002fSalvage Tug\",\"sunk\\u002fLanding Craft\",\"sunk\",\"sunk\",\"sunk\\u002fLanding Craft\",\"sunk\\u002fGuided Missile Cruiser\",\"sunk\\u002fLarge Landing Ship\",\"\"],\"values\":{\"dtype\":\"i1\",\"bdata\":\"AQEBAgICAQQBAQ0BAQEBAQEBAgEBAQEBAQIBAQEF\"},\"type\":\"sunburst\"}],                        {\"template\":{\"data\":{\"histogram2dcontour\":[{\"type\":\"histogram2dcontour\",\"colorbar\":{\"outlinewidth\":0,\"ticks\":\"\"},\"colorscale\":[[0.0,\"#0d0887\"],[0.1111111111111111,\"#46039f\"],[0.2222222222222222,\"#7201a8\"],[0.3333333333333333,\"#9c179e\"],[0.4444444444444444,\"#bd3786\"],[0.5555555555555556,\"#d8576b\"],[0.6666666666666666,\"#ed7953\"],[0.7777777777777778,\"#fb9f3a\"],[0.8888888888888888,\"#fdca26\"],[1.0,\"#f0f921\"]]}],\"choropleth\":[{\"type\":\"choropleth\",\"colorbar\":{\"outlinewidth\":0,\"ticks\":\"\"}}],\"histogram2d\":[{\"type\":\"histogram2d\",\"colorbar\":{\"outlinewidth\":0,\"ticks\":\"\"},\"colorscale\":[[0.0,\"#0d0887\"],[0.1111111111111111,\"#46039f\"],[0.2222222222222222,\"#7201a8\"],[0.3333333333333333,\"#9c179e\"],[0.4444444444444444,\"#bd3786\"],[0.5555555555555556,\"#d8576b\"],[0.6666666666666666,\"#ed7953\"],[0.7777777777777778,\"#fb9f3a\"],[0.8888888888888888,\"#fdca26\"],[1.0,\"#f0f921\"]]}],\"heatmap\":[{\"type\":\"heatmap\",\"colorbar\":{\"outlinewidth\":0,\"ticks\":\"\"},\"colorscale\":[[0.0,\"#0d0887\"],[0.1111111111111111,\"#46039f\"],[0.2222222222222222,\"#7201a8\"],[0.3333333333333333,\"#9c179e\"],[0.4444444444444444,\"#bd3786\"],[0.5555555555555556,\"#d8576b\"],[0.6666666666666666,\"#ed7953\"],[0.7777777777777778,\"#fb9f3a\"],[0.8888888888888888,\"#fdca26\"],[1.0,\"#f0f921\"]]}],\"contourcarpet\":[{\"type\":\"contourcarpet\",\"colorbar\":{\"outlinewidth\":0,\"ticks\":\"\"}}],\"contour\":[{\"type\":\"contour\",\"colorbar\":{\"outlinewidth\":0,\"ticks\":\"\"},\"colorscale\":[[0.0,\"#0d0887\"],[0.1111111111111111,\"#46039f\"],[0.2222222222222222,\"#7201a8\"],[0.3333333333333333,\"#9c179e\"],[0.4444444444444444,\"#bd3786\"],[0.5555555555555556,\"#d8576b\"],[0.6666666666666666,\"#ed7953\"],[0.7777777777777778,\"#fb9f3a\"],[0.8888888888888888,\"#fdca26\"],[1.0,\"#f0f921\"]]}],\"surface\":[{\"type\":\"surface\",\"colorbar\":{\"outlinewidth\":0,\"ticks\":\"\"},\"colorscale\":[[0.0,\"#0d0887\"],[0.1111111111111111,\"#46039f\"],[0.2222222222222222,\"#7201a8\"],[0.3333333333333333,\"#9c179e\"],[0.4444444444444444,\"#bd3786\"],[0.5555555555555556,\"#d8576b\"],[0.6666666666666666,\"#ed7953\"],[0.7777777777777778,\"#fb9f3a\"],[0.8888888888888888,\"#fdca26\"],[1.0,\"#f0f921\"]]}],\"mesh3d\":[{\"type\":\"mesh3d\",\"colorbar\":{\"outlinewidth\":0,\"ticks\":\"\"}}],\"scatter\":[{\"fillpattern\":{\"fillmode\":\"overlay\",\"size\":10,\"solidity\":0.2},\"type\":\"scatter\"}],\"parcoords\":[{\"type\":\"parcoords\",\"line\":{\"colorbar\":{\"outlinewidth\":0,\"ticks\":\"\"}}}],\"scatterpolargl\":[{\"type\":\"scatterpolargl\",\"marker\":{\"colorbar\":{\"outlinewidth\":0,\"ticks\":\"\"}}}],\"bar\":[{\"error_x\":{\"color\":\"#2a3f5f\"},\"error_y\":{\"color\":\"#2a3f5f\"},\"marker\":{\"line\":{\"color\":\"#E5ECF6\",\"width\":0.5},\"pattern\":{\"fillmode\":\"overlay\",\"size\":10,\"solidity\":0.2}},\"type\":\"bar\"}],\"scattergeo\":[{\"type\":\"scattergeo\",\"marker\":{\"colorbar\":{\"outlinewidth\":0,\"ticks\":\"\"}}}],\"scatterpolar\":[{\"type\":\"scatterpolar\",\"marker\":{\"colorbar\":{\"outlinewidth\":0,\"ticks\":\"\"}}}],\"histogram\":[{\"marker\":{\"pattern\":{\"fillmode\":\"overlay\",\"size\":10,\"solidity\":0.2}},\"type\":\"histogram\"}],\"scattergl\":[{\"type\":\"scattergl\",\"marker\":{\"colorbar\":{\"outlinewidth\":0,\"ticks\":\"\"}}}],\"scatter3d\":[{\"type\":\"scatter3d\",\"line\":{\"colorbar\":{\"outlinewidth\":0,\"ticks\":\"\"}},\"marker\":{\"colorbar\":{\"outlinewidth\":0,\"ticks\":\"\"}}}],\"scattermap\":[{\"type\":\"scattermap\",\"marker\":{\"colorbar\":{\"outlinewidth\":0,\"ticks\":\"\"}}}],\"scattermapbox\":[{\"type\":\"scattermapbox\",\"marker\":{\"colorbar\":{\"outlinewidth\":0,\"ticks\":\"\"}}}],\"scatterternary\":[{\"type\":\"scatterternary\",\"marker\":{\"colorbar\":{\"outlinewidth\":0,\"ticks\":\"\"}}}],\"scattercarpet\":[{\"type\":\"scattercarpet\",\"marker\":{\"colorbar\":{\"outlinewidth\":0,\"ticks\":\"\"}}}],\"carpet\":[{\"aaxis\":{\"endlinecolor\":\"#2a3f5f\",\"gridcolor\":\"white\",\"linecolor\":\"white\",\"minorgridcolor\":\"white\",\"startlinecolor\":\"#2a3f5f\"},\"baxis\":{\"endlinecolor\":\"#2a3f5f\",\"gridcolor\":\"white\",\"linecolor\":\"white\",\"minorgridcolor\":\"white\",\"startlinecolor\":\"#2a3f5f\"},\"type\":\"carpet\"}],\"table\":[{\"cells\":{\"fill\":{\"color\":\"#EBF0F8\"},\"line\":{\"color\":\"white\"}},\"header\":{\"fill\":{\"color\":\"#C8D4E3\"},\"line\":{\"color\":\"white\"}},\"type\":\"table\"}],\"barpolar\":[{\"marker\":{\"line\":{\"color\":\"#E5ECF6\",\"width\":0.5},\"pattern\":{\"fillmode\":\"overlay\",\"size\":10,\"solidity\":0.2}},\"type\":\"barpolar\"}],\"pie\":[{\"automargin\":true,\"type\":\"pie\"}]},\"layout\":{\"autotypenumbers\":\"strict\",\"colorway\":[\"#636efa\",\"#EF553B\",\"#00cc96\",\"#ab63fa\",\"#FFA15A\",\"#19d3f3\",\"#FF6692\",\"#B6E880\",\"#FF97FF\",\"#FECB52\"],\"font\":{\"color\":\"#2a3f5f\"},\"hovermode\":\"closest\",\"hoverlabel\":{\"align\":\"left\"},\"paper_bgcolor\":\"white\",\"plot_bgcolor\":\"#E5ECF6\",\"polar\":{\"bgcolor\":\"#E5ECF6\",\"angularaxis\":{\"gridcolor\":\"white\",\"linecolor\":\"white\",\"ticks\":\"\"},\"radialaxis\":{\"gridcolor\":\"white\",\"linecolor\":\"white\",\"ticks\":\"\"}},\"ternary\":{\"bgcolor\":\"#E5ECF6\",\"aaxis\":{\"gridcolor\":\"white\",\"linecolor\":\"white\",\"ticks\":\"\"},\"baxis\":{\"gridcolor\":\"white\",\"linecolor\":\"white\",\"ticks\":\"\"},\"caxis\":{\"gridcolor\":\"white\",\"linecolor\":\"white\",\"ticks\":\"\"}},\"coloraxis\":{\"colorbar\":{\"outlinewidth\":0,\"ticks\":\"\"}},\"colorscale\":{\"sequential\":[[0.0,\"#0d0887\"],[0.1111111111111111,\"#46039f\"],[0.2222222222222222,\"#7201a8\"],[0.3333333333333333,\"#9c179e\"],[0.4444444444444444,\"#bd3786\"],[0.5555555555555556,\"#d8576b\"],[0.6666666666666666,\"#ed7953\"],[0.7777777777777778,\"#fb9f3a\"],[0.8888888888888888,\"#fdca26\"],[1.0,\"#f0f921\"]],\"sequentialminus\":[[0.0,\"#0d0887\"],[0.1111111111111111,\"#46039f\"],[0.2222222222222222,\"#7201a8\"],[0.3333333333333333,\"#9c179e\"],[0.4444444444444444,\"#bd3786\"],[0.5555555555555556,\"#d8576b\"],[0.6666666666666666,\"#ed7953\"],[0.7777777777777778,\"#fb9f3a\"],[0.8888888888888888,\"#fdca26\"],[1.0,\"#f0f921\"]],\"diverging\":[[0,\"#8e0152\"],[0.1,\"#c51b7d\"],[0.2,\"#de77ae\"],[0.3,\"#f1b6da\"],[0.4,\"#fde0ef\"],[0.5,\"#f7f7f7\"],[0.6,\"#e6f5d0\"],[0.7,\"#b8e186\"],[0.8,\"#7fbc41\"],[0.9,\"#4d9221\"],[1,\"#276419\"]]},\"xaxis\":{\"gridcolor\":\"white\",\"linecolor\":\"white\",\"ticks\":\"\",\"title\":{\"standoff\":15},\"zerolinecolor\":\"white\",\"automargin\":true,\"zerolinewidth\":2},\"yaxis\":{\"gridcolor\":\"white\",\"linecolor\":\"white\",\"ticks\":\"\",\"title\":{\"standoff\":15},\"zerolinecolor\":\"white\",\"automargin\":true,\"zerolinewidth\":2},\"scene\":{\"xaxis\":{\"backgroundcolor\":\"#E5ECF6\",\"gridcolor\":\"white\",\"linecolor\":\"white\",\"showbackground\":true,\"ticks\":\"\",\"zerolinecolor\":\"white\",\"gridwidth\":2},\"yaxis\":{\"backgroundcolor\":\"#E5ECF6\",\"gridcolor\":\"white\",\"linecolor\":\"white\",\"showbackground\":true,\"ticks\":\"\",\"zerolinecolor\":\"white\",\"gridwidth\":2},\"zaxis\":{\"backgroundcolor\":\"#E5ECF6\",\"gridcolor\":\"white\",\"linecolor\":\"white\",\"showbackground\":true,\"ticks\":\"\",\"zerolinecolor\":\"white\",\"gridwidth\":2}},\"shapedefaults\":{\"line\":{\"color\":\"#2a3f5f\"}},\"annotationdefaults\":{\"arrowcolor\":\"#2a3f5f\",\"arrowhead\":0,\"arrowwidth\":1},\"geo\":{\"bgcolor\":\"white\",\"landcolor\":\"#E5ECF6\",\"subunitcolor\":\"white\",\"showland\":true,\"showlakes\":true,\"lakecolor\":\"white\"},\"title\":{\"x\":0.05},\"mapbox\":{\"style\":\"light\"}}},\"annotations\":[{\"font\":{\"size\":36},\"showarrow\":false,\"text\":\"Damaged\",\"x\":0.225,\"xanchor\":\"center\",\"xref\":\"paper\",\"y\":1.0,\"yanchor\":\"bottom\",\"yref\":\"paper\"},{\"font\":{\"size\":36},\"showarrow\":false,\"text\":\"Destroyed\",\"x\":0.775,\"xanchor\":\"center\",\"xref\":\"paper\",\"y\":1.0,\"yanchor\":\"bottom\",\"yref\":\"paper\"}],\"height\":1000},                        {\"responsive\": true}                    ).then(function(){\n",
       "                            \n",
       "var gd = document.getElementById('1646c6a2-d331-4f1e-be2b-880b75b13154');\n",
       "var x = new MutationObserver(function (mutations, observer) {{\n",
       "        var display = window.getComputedStyle(gd).display;\n",
       "        if (!display || display === 'none') {{\n",
       "            console.log([gd, 'removed!']);\n",
       "            Plotly.purge(gd);\n",
       "            observer.disconnect();\n",
       "        }}\n",
       "}});\n",
       "\n",
       "// Listen for the removal of the full notebook cells\n",
       "var notebookContainer = gd.closest('#notebook-container');\n",
       "if (notebookContainer) {{\n",
       "    x.observe(notebookContainer, {childList: true});\n",
       "}}\n",
       "\n",
       "// Listen for the clearing of the current output cell\n",
       "var outputEl = gd.closest('.output');\n",
       "if (outputEl) {{\n",
       "    x.observe(outputEl, {childList: true});\n",
       "}}\n",
       "\n",
       "                        })                };            </script>        </div>"
      ]
     },
     "metadata": {},
     "output_type": "display_data"
    }
   ],
   "source": [
    "# Transform data\n",
    "df_destroyed = df_fleet_losses[df_fleet_losses[\"Status\"].isin([\"destroyed\", \"sunk\"])]  # Destroyed\n",
    "df_damaged = df_fleet_losses[(~df_fleet_losses[\"Status\"].isin([\"destroyed\", \"sunk\"])) & (~df_fleet_losses[\"Name\"].isin(df_destroyed[\"Name\"]))]  # Damaged but not destroyed\n",
    "\n",
    "# Create figures\n",
    "fig1 = px.sunburst(df_damaged, path=[\"Status\", \"Type\", \"Name\"], color=\"Status\", color_discrete_map={\"damaged\": \"#B47C08\", \"damaged beyond repair\": \"#835A06\"})\n",
    "fig2 = px.sunburst(df_destroyed, path=[\"Status\", \"Type\", \"Name\"], color=\"Status\", color_discrete_map={\"destroyed\": \"#9C0D07\", \"sunk\": \"#6B0905\"})\n",
    "\n",
    "# Create subplots\n",
    "fig = make_subplots(rows=1, cols=2, subplot_titles=(\"Damaged\", \"Destroyed\"), specs=[[{\"type\": \"sunburst\"}, {\"type\": \"sunburst\"}]])\n",
    "\n",
    "for trace in fig1.data:\n",
    "    fig.add_trace(trace, row=1, col=1)\n",
    "\n",
    "for trace in fig2.data:\n",
    "    fig.add_trace(trace, row=1, col=2)\n",
    "\n",
    "fig.update_layout(height=1000)\n",
    "fig.update_annotations(font_size=36)\n",
    "fig.show()"
   ]
  },
  {
   "cell_type": "code",
   "execution_count": 195,
   "id": "cc5b6268",
   "metadata": {},
   "outputs": [
    {
     "data": {
      "text/html": [
       "<div>            <script src=\"https://cdnjs.cloudflare.com/ajax/libs/mathjax/2.7.5/MathJax.js?config=TeX-AMS-MML_SVG\"></script><script type=\"text/javascript\">if (window.MathJax && window.MathJax.Hub && window.MathJax.Hub.Config) {window.MathJax.Hub.Config({SVG: {font: \"STIX-Web\"}});}</script>                    <div id=\"23bcec01-e923-4397-9f77-8c6ac5fab1e5\" class=\"plotly-graph-div\" style=\"height:525px; width:100%;\"></div>            <script type=\"text/javascript\">                window.PLOTLYENV=window.PLOTLYENV || {};                                if (document.getElementById(\"23bcec01-e923-4397-9f77-8c6ac5fab1e5\")) {                    Plotly.newPlot(                        \"23bcec01-e923-4397-9f77-8c6ac5fab1e5\",                        [{\"branchvalues\":\"total\",\"customdata\":[[\"damaged\"],[\"damaged\"],[\"damaged\"],[\"damaged\"],[\"damaged\"],[\"damaged\"],[\"damaged\"],[\"damaged\"],[\"damaged\"],[\"damaged\"],[\"damaged\"],[\"damaged\"],[\"damaged beyond repair\"],[\"damaged beyond repair\"],[\"damaged beyond repair\"],[\"damaged beyond repair\"],[\"damaged beyond repair\"]],\"domain\":{\"x\":[0.0,1.0],\"y\":[0.0,1.0]},\"hovertemplate\":\"labels=%{label}\\u003cbr\\u003ecount=%{value}\\u003cbr\\u003eparent=%{parent}\\u003cbr\\u003eid=%{id}\\u003cbr\\u003eStatus=%{customdata[0]}\\u003cextra\\u003e\\u003c\\u002fextra\\u003e\",\"ids\":[\"damaged\\u002fGuided Missile Frigate\\u002fAdmiral Makarov\",\"damaged\\u002fPatrol Ship\",\"damaged\\u002fMissile Corvette\",\"damaged\\u002fLarge Landing Ship\",\"damaged\\u002fSeagoing Minesweeper\",\"damaged\",\"damaged\\u002fMissile Corvette\\u002fAskold\",\"damaged\\u002fGuided Missile Frigate\",\"damaged\\u002fMissile Corvette\\u002fSamum\",\"damaged\\u002fLarge Landing Ship\\u002fOlenegorsky Gornyak\",\"damaged\\u002fSeagoing Minesweeper\\u002fIvan Golubets\",\"damaged\\u002fPatrol Ship\\u002fPavel Derzhavin\",\"damaged beyond repair\\u002fLarge Landing Ship\\u002fMinsk\",\"damaged beyond repair\\u002fSubmarine\\u002fRostov-on-Don\",\"damaged beyond repair\\u002fSubmarine\",\"damaged beyond repair\\u002fLarge Landing Ship\",\"damaged beyond repair\"],\"labels\":[\"Admiral Makarov\",\"Patrol Ship\",\"Missile Corvette\",\"Large Landing Ship\",\"Seagoing Minesweeper\",\"damaged\",\"Askold\",\"Guided Missile Frigate\",\"Samum\",\"Olenegorsky Gornyak\",\"Ivan Golubets\",\"Pavel Derzhavin\",\"Minsk\",\"Rostov-on-Don\",\"Submarine\",\"Large Landing Ship\",\"damaged beyond repair\"],\"marker\":{\"colors\":[\"#B47C08\",\"#B47C08\",\"#B47C08\",\"#B47C08\",\"#B47C08\",\"#B47C08\",\"#B47C08\",\"#B47C08\",\"#B47C08\",\"#B47C08\",\"#B47C08\",\"#B47C08\",\"#835A06\",\"#835A06\",\"#835A06\",\"#835A06\",\"#835A06\"]},\"name\":\"\",\"parents\":[\"damaged\\u002fGuided Missile Frigate\",\"damaged\",\"damaged\",\"damaged\",\"damaged\",\"\",\"damaged\\u002fMissile Corvette\",\"damaged\",\"damaged\\u002fMissile Corvette\",\"damaged\\u002fLarge Landing Ship\",\"damaged\\u002fSeagoing Minesweeper\",\"damaged\\u002fPatrol Ship\",\"damaged beyond repair\\u002fLarge Landing Ship\",\"damaged beyond repair\\u002fSubmarine\",\"damaged beyond repair\",\"damaged beyond repair\",\"\"],\"values\":{\"dtype\":\"i1\",\"bdata\":\"AQECAQEGAQEBAQEBAQEBAQI=\"},\"type\":\"sunburst\"}],                        {\"template\":{\"data\":{\"histogram2dcontour\":[{\"type\":\"histogram2dcontour\",\"colorbar\":{\"outlinewidth\":0,\"ticks\":\"\"},\"colorscale\":[[0.0,\"#0d0887\"],[0.1111111111111111,\"#46039f\"],[0.2222222222222222,\"#7201a8\"],[0.3333333333333333,\"#9c179e\"],[0.4444444444444444,\"#bd3786\"],[0.5555555555555556,\"#d8576b\"],[0.6666666666666666,\"#ed7953\"],[0.7777777777777778,\"#fb9f3a\"],[0.8888888888888888,\"#fdca26\"],[1.0,\"#f0f921\"]]}],\"choropleth\":[{\"type\":\"choropleth\",\"colorbar\":{\"outlinewidth\":0,\"ticks\":\"\"}}],\"histogram2d\":[{\"type\":\"histogram2d\",\"colorbar\":{\"outlinewidth\":0,\"ticks\":\"\"},\"colorscale\":[[0.0,\"#0d0887\"],[0.1111111111111111,\"#46039f\"],[0.2222222222222222,\"#7201a8\"],[0.3333333333333333,\"#9c179e\"],[0.4444444444444444,\"#bd3786\"],[0.5555555555555556,\"#d8576b\"],[0.6666666666666666,\"#ed7953\"],[0.7777777777777778,\"#fb9f3a\"],[0.8888888888888888,\"#fdca26\"],[1.0,\"#f0f921\"]]}],\"heatmap\":[{\"type\":\"heatmap\",\"colorbar\":{\"outlinewidth\":0,\"ticks\":\"\"},\"colorscale\":[[0.0,\"#0d0887\"],[0.1111111111111111,\"#46039f\"],[0.2222222222222222,\"#7201a8\"],[0.3333333333333333,\"#9c179e\"],[0.4444444444444444,\"#bd3786\"],[0.5555555555555556,\"#d8576b\"],[0.6666666666666666,\"#ed7953\"],[0.7777777777777778,\"#fb9f3a\"],[0.8888888888888888,\"#fdca26\"],[1.0,\"#f0f921\"]]}],\"contourcarpet\":[{\"type\":\"contourcarpet\",\"colorbar\":{\"outlinewidth\":0,\"ticks\":\"\"}}],\"contour\":[{\"type\":\"contour\",\"colorbar\":{\"outlinewidth\":0,\"ticks\":\"\"},\"colorscale\":[[0.0,\"#0d0887\"],[0.1111111111111111,\"#46039f\"],[0.2222222222222222,\"#7201a8\"],[0.3333333333333333,\"#9c179e\"],[0.4444444444444444,\"#bd3786\"],[0.5555555555555556,\"#d8576b\"],[0.6666666666666666,\"#ed7953\"],[0.7777777777777778,\"#fb9f3a\"],[0.8888888888888888,\"#fdca26\"],[1.0,\"#f0f921\"]]}],\"surface\":[{\"type\":\"surface\",\"colorbar\":{\"outlinewidth\":0,\"ticks\":\"\"},\"colorscale\":[[0.0,\"#0d0887\"],[0.1111111111111111,\"#46039f\"],[0.2222222222222222,\"#7201a8\"],[0.3333333333333333,\"#9c179e\"],[0.4444444444444444,\"#bd3786\"],[0.5555555555555556,\"#d8576b\"],[0.6666666666666666,\"#ed7953\"],[0.7777777777777778,\"#fb9f3a\"],[0.8888888888888888,\"#fdca26\"],[1.0,\"#f0f921\"]]}],\"mesh3d\":[{\"type\":\"mesh3d\",\"colorbar\":{\"outlinewidth\":0,\"ticks\":\"\"}}],\"scatter\":[{\"fillpattern\":{\"fillmode\":\"overlay\",\"size\":10,\"solidity\":0.2},\"type\":\"scatter\"}],\"parcoords\":[{\"type\":\"parcoords\",\"line\":{\"colorbar\":{\"outlinewidth\":0,\"ticks\":\"\"}}}],\"scatterpolargl\":[{\"type\":\"scatterpolargl\",\"marker\":{\"colorbar\":{\"outlinewidth\":0,\"ticks\":\"\"}}}],\"bar\":[{\"error_x\":{\"color\":\"#2a3f5f\"},\"error_y\":{\"color\":\"#2a3f5f\"},\"marker\":{\"line\":{\"color\":\"#E5ECF6\",\"width\":0.5},\"pattern\":{\"fillmode\":\"overlay\",\"size\":10,\"solidity\":0.2}},\"type\":\"bar\"}],\"scattergeo\":[{\"type\":\"scattergeo\",\"marker\":{\"colorbar\":{\"outlinewidth\":0,\"ticks\":\"\"}}}],\"scatterpolar\":[{\"type\":\"scatterpolar\",\"marker\":{\"colorbar\":{\"outlinewidth\":0,\"ticks\":\"\"}}}],\"histogram\":[{\"marker\":{\"pattern\":{\"fillmode\":\"overlay\",\"size\":10,\"solidity\":0.2}},\"type\":\"histogram\"}],\"scattergl\":[{\"type\":\"scattergl\",\"marker\":{\"colorbar\":{\"outlinewidth\":0,\"ticks\":\"\"}}}],\"scatter3d\":[{\"type\":\"scatter3d\",\"line\":{\"colorbar\":{\"outlinewidth\":0,\"ticks\":\"\"}},\"marker\":{\"colorbar\":{\"outlinewidth\":0,\"ticks\":\"\"}}}],\"scattermap\":[{\"type\":\"scattermap\",\"marker\":{\"colorbar\":{\"outlinewidth\":0,\"ticks\":\"\"}}}],\"scattermapbox\":[{\"type\":\"scattermapbox\",\"marker\":{\"colorbar\":{\"outlinewidth\":0,\"ticks\":\"\"}}}],\"scatterternary\":[{\"type\":\"scatterternary\",\"marker\":{\"colorbar\":{\"outlinewidth\":0,\"ticks\":\"\"}}}],\"scattercarpet\":[{\"type\":\"scattercarpet\",\"marker\":{\"colorbar\":{\"outlinewidth\":0,\"ticks\":\"\"}}}],\"carpet\":[{\"aaxis\":{\"endlinecolor\":\"#2a3f5f\",\"gridcolor\":\"white\",\"linecolor\":\"white\",\"minorgridcolor\":\"white\",\"startlinecolor\":\"#2a3f5f\"},\"baxis\":{\"endlinecolor\":\"#2a3f5f\",\"gridcolor\":\"white\",\"linecolor\":\"white\",\"minorgridcolor\":\"white\",\"startlinecolor\":\"#2a3f5f\"},\"type\":\"carpet\"}],\"table\":[{\"cells\":{\"fill\":{\"color\":\"#EBF0F8\"},\"line\":{\"color\":\"white\"}},\"header\":{\"fill\":{\"color\":\"#C8D4E3\"},\"line\":{\"color\":\"white\"}},\"type\":\"table\"}],\"barpolar\":[{\"marker\":{\"line\":{\"color\":\"#E5ECF6\",\"width\":0.5},\"pattern\":{\"fillmode\":\"overlay\",\"size\":10,\"solidity\":0.2}},\"type\":\"barpolar\"}],\"pie\":[{\"automargin\":true,\"type\":\"pie\"}]},\"layout\":{\"autotypenumbers\":\"strict\",\"colorway\":[\"#636efa\",\"#EF553B\",\"#00cc96\",\"#ab63fa\",\"#FFA15A\",\"#19d3f3\",\"#FF6692\",\"#B6E880\",\"#FF97FF\",\"#FECB52\"],\"font\":{\"color\":\"#2a3f5f\"},\"hovermode\":\"closest\",\"hoverlabel\":{\"align\":\"left\"},\"paper_bgcolor\":\"white\",\"plot_bgcolor\":\"#E5ECF6\",\"polar\":{\"bgcolor\":\"#E5ECF6\",\"angularaxis\":{\"gridcolor\":\"white\",\"linecolor\":\"white\",\"ticks\":\"\"},\"radialaxis\":{\"gridcolor\":\"white\",\"linecolor\":\"white\",\"ticks\":\"\"}},\"ternary\":{\"bgcolor\":\"#E5ECF6\",\"aaxis\":{\"gridcolor\":\"white\",\"linecolor\":\"white\",\"ticks\":\"\"},\"baxis\":{\"gridcolor\":\"white\",\"linecolor\":\"white\",\"ticks\":\"\"},\"caxis\":{\"gridcolor\":\"white\",\"linecolor\":\"white\",\"ticks\":\"\"}},\"coloraxis\":{\"colorbar\":{\"outlinewidth\":0,\"ticks\":\"\"}},\"colorscale\":{\"sequential\":[[0.0,\"#0d0887\"],[0.1111111111111111,\"#46039f\"],[0.2222222222222222,\"#7201a8\"],[0.3333333333333333,\"#9c179e\"],[0.4444444444444444,\"#bd3786\"],[0.5555555555555556,\"#d8576b\"],[0.6666666666666666,\"#ed7953\"],[0.7777777777777778,\"#fb9f3a\"],[0.8888888888888888,\"#fdca26\"],[1.0,\"#f0f921\"]],\"sequentialminus\":[[0.0,\"#0d0887\"],[0.1111111111111111,\"#46039f\"],[0.2222222222222222,\"#7201a8\"],[0.3333333333333333,\"#9c179e\"],[0.4444444444444444,\"#bd3786\"],[0.5555555555555556,\"#d8576b\"],[0.6666666666666666,\"#ed7953\"],[0.7777777777777778,\"#fb9f3a\"],[0.8888888888888888,\"#fdca26\"],[1.0,\"#f0f921\"]],\"diverging\":[[0,\"#8e0152\"],[0.1,\"#c51b7d\"],[0.2,\"#de77ae\"],[0.3,\"#f1b6da\"],[0.4,\"#fde0ef\"],[0.5,\"#f7f7f7\"],[0.6,\"#e6f5d0\"],[0.7,\"#b8e186\"],[0.8,\"#7fbc41\"],[0.9,\"#4d9221\"],[1,\"#276419\"]]},\"xaxis\":{\"gridcolor\":\"white\",\"linecolor\":\"white\",\"ticks\":\"\",\"title\":{\"standoff\":15},\"zerolinecolor\":\"white\",\"automargin\":true,\"zerolinewidth\":2},\"yaxis\":{\"gridcolor\":\"white\",\"linecolor\":\"white\",\"ticks\":\"\",\"title\":{\"standoff\":15},\"zerolinecolor\":\"white\",\"automargin\":true,\"zerolinewidth\":2},\"scene\":{\"xaxis\":{\"backgroundcolor\":\"#E5ECF6\",\"gridcolor\":\"white\",\"linecolor\":\"white\",\"showbackground\":true,\"ticks\":\"\",\"zerolinecolor\":\"white\",\"gridwidth\":2},\"yaxis\":{\"backgroundcolor\":\"#E5ECF6\",\"gridcolor\":\"white\",\"linecolor\":\"white\",\"showbackground\":true,\"ticks\":\"\",\"zerolinecolor\":\"white\",\"gridwidth\":2},\"zaxis\":{\"backgroundcolor\":\"#E5ECF6\",\"gridcolor\":\"white\",\"linecolor\":\"white\",\"showbackground\":true,\"ticks\":\"\",\"zerolinecolor\":\"white\",\"gridwidth\":2}},\"shapedefaults\":{\"line\":{\"color\":\"#2a3f5f\"}},\"annotationdefaults\":{\"arrowcolor\":\"#2a3f5f\",\"arrowhead\":0,\"arrowwidth\":1},\"geo\":{\"bgcolor\":\"white\",\"landcolor\":\"#E5ECF6\",\"subunitcolor\":\"white\",\"showland\":true,\"showlakes\":true,\"lakecolor\":\"white\"},\"title\":{\"x\":0.05},\"mapbox\":{\"style\":\"light\"}}},\"legend\":{\"tracegroupgap\":0},\"margin\":{\"t\":60}},                        {\"responsive\": true}                    ).then(function(){\n",
       "                            \n",
       "var gd = document.getElementById('23bcec01-e923-4397-9f77-8c6ac5fab1e5');\n",
       "var x = new MutationObserver(function (mutations, observer) {{\n",
       "        var display = window.getComputedStyle(gd).display;\n",
       "        if (!display || display === 'none') {{\n",
       "            console.log([gd, 'removed!']);\n",
       "            Plotly.purge(gd);\n",
       "            observer.disconnect();\n",
       "        }}\n",
       "}});\n",
       "\n",
       "// Listen for the removal of the full notebook cells\n",
       "var notebookContainer = gd.closest('#notebook-container');\n",
       "if (notebookContainer) {{\n",
       "    x.observe(notebookContainer, {childList: true});\n",
       "}}\n",
       "\n",
       "// Listen for the clearing of the current output cell\n",
       "var outputEl = gd.closest('.output');\n",
       "if (outputEl) {{\n",
       "    x.observe(outputEl, {childList: true});\n",
       "}}\n",
       "\n",
       "                        })                };            </script>        </div>"
      ]
     },
     "metadata": {},
     "output_type": "display_data"
    }
   ],
   "source": [
    "px.sunburst(df_damaged, path=[\"Status\", \"Type\", \"Name\"], color=\"Status\", color_discrete_map={\"damaged\": \"#B47C08\", \"damaged beyond repair\": \"#835A06\"})"
   ]
  }
 ],
 "metadata": {
  "kernelspec": {
   "display_name": ".venv",
   "language": "python",
   "name": "python3"
  },
  "language_info": {
   "codemirror_mode": {
    "name": "ipython",
    "version": 3
   },
   "file_extension": ".py",
   "mimetype": "text/x-python",
   "name": "python",
   "nbconvert_exporter": "python",
   "pygments_lexer": "ipython3",
   "version": "3.12.3"
  }
 },
 "nbformat": 4,
 "nbformat_minor": 5
}
